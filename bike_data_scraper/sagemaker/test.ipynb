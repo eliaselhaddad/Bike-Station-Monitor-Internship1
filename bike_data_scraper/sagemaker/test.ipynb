{
 "cells": [
  {
   "cell_type": "code",
   "execution_count": 1,
   "metadata": {},
   "outputs": [
    {
     "data": {
      "text/html": [
       "<div>\n",
       "<style scoped>\n",
       "    .dataframe tbody tr th:only-of-type {\n",
       "        vertical-align: middle;\n",
       "    }\n",
       "\n",
       "    .dataframe tbody tr th {\n",
       "        vertical-align: top;\n",
       "    }\n",
       "\n",
       "    .dataframe thead th {\n",
       "        text-align: right;\n",
       "    }\n",
       "</style>\n",
       "<table border=\"1\" class=\"dataframe\">\n",
       "  <thead>\n",
       "    <tr style=\"text-align: right;\">\n",
       "      <th></th>\n",
       "      <th>Temperature</th>\n",
       "      <th>Humidity</th>\n",
       "      <th>Wind_Speed</th>\n",
       "      <th>Precipitation</th>\n",
       "      <th>Visibility</th>\n",
       "      <th>Snowfall</th>\n",
       "    </tr>\n",
       "  </thead>\n",
       "  <tbody>\n",
       "    <tr>\n",
       "      <th>0</th>\n",
       "      <td>4.5</td>\n",
       "      <td>80</td>\n",
       "      <td>11.9</td>\n",
       "      <td>0.0</td>\n",
       "      <td>24140.0</td>\n",
       "      <td>0.0</td>\n",
       "    </tr>\n",
       "  </tbody>\n",
       "</table>\n",
       "</div>"
      ],
      "text/plain": [
       "   Temperature  Humidity  Wind_Speed  Precipitation  Visibility  Snowfall\n",
       "0          4.5        80        11.9            0.0     24140.0       0.0"
      ]
     },
     "execution_count": 1,
     "metadata": {},
     "output_type": "execute_result"
    }
   ],
   "source": [
    "import http.client\n",
    "import urllib.parse\n",
    "import pandas as pd\n",
    "import json\n",
    "\n",
    "API_ENDPOINT = \"api.open-meteo.com\"\n",
    "PATH = \"/v1/forecast\"\n",
    "LAT = \"57.682089684462454\"\n",
    "LONG = \"11.983288826091862\"\n",
    "\n",
    "params = {\n",
    "    \"latitude\": LAT,\n",
    "    \"longitude\": LONG,\n",
    "    \"hourly\": \"temperature_2m,relativehumidity_2m,windspeed_10m,precipitation,visibility,snowfall\"\n",
    "}\n",
    "params_str = urllib.parse.urlencode(params)\n",
    "url = f\"{PATH}?{params_str}\"\n",
    "\n",
    "conn = http.client.HTTPSConnection(API_ENDPOINT)\n",
    "conn.request(\"GET\", url)\n",
    "response = conn.getresponse()\n",
    "\n",
    "if response.status == 200:\n",
    "    response_data = response.read()\n",
    "    weather_data = json.loads(response_data)\n",
    "    hourly_data = weather_data[\"hourly\"]\n",
    "    data_dict = {\n",
    "        'Temperature': [hourly_data['temperature_2m'][0]],\n",
    "        'Humidity': [hourly_data['relativehumidity_2m'][0]],\n",
    "        'Wind_Speed': [hourly_data['windspeed_10m'][0]],\n",
    "        'Precipitation': [hourly_data['precipitation'][0]],\n",
    "        'Visibility': [hourly_data['visibility'][0]],\n",
    "        'Snowfall': [hourly_data['snowfall'][0]]\n",
    "    }\n",
    "    weather_df = pd.DataFrame(data_dict)\n",
    "else:\n",
    "    print(\"Failed to retrieve weather data.\")\n",
    "\n",
    "weather_df\n"
   ]
  },
  {
   "cell_type": "code",
   "execution_count": 3,
   "metadata": {},
   "outputs": [
    {
     "ename": "ModuleNotFoundError",
     "evalue": "No module named 'bike_data_scraper'",
     "output_type": "error",
     "traceback": [
      "\u001b[1;31m---------------------------------------------------------------------------\u001b[0m",
      "\u001b[1;31mModuleNotFoundError\u001b[0m                       Traceback (most recent call last)",
      "\u001b[1;32mc:\\Code-commit-aws\\data-scraper\\bike_data_scraper\\sagemaker\\test.ipynb Cell 2\u001b[0m line \u001b[0;36m2\n\u001b[0;32m      <a href='vscode-notebook-cell:/c%3A/Code-commit-aws/data-scraper/bike_data_scraper/sagemaker/test.ipynb#W1sZmlsZQ%3D%3D?line=0'>1</a>\u001b[0m \u001b[39mimport\u001b[39;00m \u001b[39mos\u001b[39;00m\n\u001b[1;32m----> <a href='vscode-notebook-cell:/c%3A/Code-commit-aws/data-scraper/bike_data_scraper/sagemaker/test.ipynb#W1sZmlsZQ%3D%3D?line=1'>2</a>\u001b[0m \u001b[39mfrom\u001b[39;00m \u001b[39mbike_data_scraper\u001b[39;00m\u001b[39m.\u001b[39;00m\u001b[39ms3_client\u001b[39;00m\u001b[39m.\u001b[39;00m\u001b[39ms3_handler\u001b[39;00m \u001b[39mimport\u001b[39;00m S3Handler\n\u001b[0;32m      <a href='vscode-notebook-cell:/c%3A/Code-commit-aws/data-scraper/bike_data_scraper/sagemaker/test.ipynb#W1sZmlsZQ%3D%3D?line=3'>4</a>\u001b[0m \u001b[39m# Setup\u001b[39;00m\n\u001b[0;32m      <a href='vscode-notebook-cell:/c%3A/Code-commit-aws/data-scraper/bike_data_scraper/sagemaker/test.ipynb#W1sZmlsZQ%3D%3D?line=4'>5</a>\u001b[0m WEATHER_KEY \u001b[39m=\u001b[39m os\u001b[39m.\u001b[39menviron[\u001b[39m\"\u001b[39m\u001b[39mWEATHER_KEY\u001b[39m\u001b[39m\"\u001b[39m]\n",
      "\u001b[1;31mModuleNotFoundError\u001b[0m: No module named 'bike_data_scraper'"
     ]
    }
   ],
   "source": [
    "import os\n",
    "from bike_data_scraper.s3_client.s3_handler import S3Handler\n",
    "\n",
    "# Setup\n",
    "WEATHER_KEY = os.environ[\"WEATHER_KEY\"]\n",
    "BIKES_KEY = os.environ[\"BIKES_KEY\"]\n",
    "SOURCE_BUCKET = os.environ[\"S3_SOURCE_BUCKET\"]\n",
    "s3_handler = S3Handler()\n",
    "\n",
    "def lambda_handler(event, context):\n",
    "    try:\n",
    "        weather_data, bikes_data = fetch_data_from_s3()\n",
    "        # Now weather_data and bikes_data are Pandas dataframes\n",
    "    except Exception as e:\n",
    "        logger.error(f\"An error occurred: {e}\")\n",
    "        raise e\n",
    "\n",
    "def fetch_data_from_s3():\n",
    "    weather_data = s3_handler.get_data_from_s3(SOURCE_BUCKET, WEATHER_KEY)\n",
    "    bikes_data = s3_handler.get_data_from_s3(SOURCE_BUCKET, BIKES_KEY)\n",
    "\n",
    "    if weather_data is None or bikes_data is None:\n",
    "        raise ValueError(\"Missing data for weather or bikes\")\n",
    "\n",
    "    return weather_data, bikes_data\n",
    "\n"
   ]
  }
 ],
 "metadata": {
  "kernelspec": {
   "display_name": "Machine-learning-Mosm6azX",
   "language": "python",
   "name": "python3"
  },
  "language_info": {
   "codemirror_mode": {
    "name": "ipython",
    "version": 3
   },
   "file_extension": ".py",
   "mimetype": "text/x-python",
   "name": "python",
   "nbconvert_exporter": "python",
   "pygments_lexer": "ipython3",
   "version": "3.9.13"
  }
 },
 "nbformat": 4,
 "nbformat_minor": 2
}
