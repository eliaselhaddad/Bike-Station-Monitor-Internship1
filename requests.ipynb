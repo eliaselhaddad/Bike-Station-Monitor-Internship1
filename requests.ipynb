{
 "cells": [
  {
   "cell_type": "code",
   "execution_count": null,
   "metadata": {},
   "outputs": [],
   "source": [
    "import requests\n",
    "\n",
    "def test_api_call():\n",
    "    url = \"https://api.open-meteo.com/v1/forecast\"\n",
    "    params = {\n",
    "        \"latitude\": 52.52,\n",
    "        \"longitude\": 13.41,\n",
    "        \"start_date\": \"2023-10-04\",\n",
    "        \"end_date\": \"2023-10-18\",\n",
    "        \"hourly\": \"temperature_2m,relativehumidity_2m,windspeed_10m,precipitation,visibility,snowfall\"\n",
    "    }\n",
    "    response = requests.get(url, params=params)\n",
    "    \n",
    "    if response.status_code == 200:\n",
    "        print(\"API call successful!\")\n",
    "        print(response.json())\n",
    "    else:\n",
    "        print(f\"API call failed! HTTP Status Code: {response.status_code}\")\n"
   ]
  }
 ],
 "metadata": {
  "language_info": {
   "name": "python"
  }
 },
 "nbformat": 4,
 "nbformat_minor": 2
}
